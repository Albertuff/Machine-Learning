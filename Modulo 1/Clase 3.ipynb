{
 "cells": [
  {
   "cell_type": "code",
   "execution_count": 218,
   "metadata": {},
   "outputs": [
    {
     "name": "stdout",
     "output_type": "stream",
     "text": [
      "18.5\n",
      "tu estatura en centimetros es 1850.00\n"
     ]
    }
   ],
   "source": [
    "# Ejemplo: Entrada y salida de mensajes y tipos de datos\n",
    "\n",
    "estatura = float(input(\"Dame la estatura en metros  --> \")) # si no lo ponemos como flotante se guarda la variable como caracter\n",
    "print(estatura)\n",
    "type(estatura)\n",
    "\n",
    "centimetros = estatura*100\n",
    "print(f\"tu estatura en centimetros es {centimetros:.2f}\")\n"
   ]
  },
  {
   "cell_type": "markdown",
   "metadata": {},
   "source": [
    "#                                           Colecciones\n",
    "\n"
   ]
  },
  {
   "cell_type": "markdown",
   "metadata": {},
   "source": [
    "----------------------------\n",
    "## Listas"
   ]
  },
  {
   "cell_type": "code",
   "execution_count": 219,
   "metadata": {},
   "outputs": [
    {
     "name": "stdout",
     "output_type": "stream",
     "text": [
      "[1, 2.5, 'hola', True]\n"
     ]
    },
    {
     "data": {
      "text/plain": [
       "True"
      ]
     },
     "execution_count": 219,
     "metadata": {},
     "output_type": "execute_result"
    }
   ],
   "source": [
    "# Listas: Almacena distintos tipos de datos y son muatables ( se puede cambiar sus valores)\n",
    "#        Es un arreglo o vector ordenado\n",
    "\n",
    "lista1=[1,2.5,\"hola\",True]\n",
    "print(lista1)\n",
    "lista1[3]"
   ]
  },
  {
   "cell_type": "code",
   "execution_count": 220,
   "metadata": {},
   "outputs": [
    {
     "data": {
      "text/plain": [
       "[123, 2.5, 'hola', True]"
      ]
     },
     "execution_count": 220,
     "metadata": {},
     "output_type": "execute_result"
    }
   ],
   "source": [
    "lista1[0]=123   # cambia el valor de un elemento de la lista\n",
    "lista1"
   ]
  },
  {
   "cell_type": "code",
   "execution_count": 221,
   "metadata": {},
   "outputs": [
    {
     "name": "stdout",
     "output_type": "stream",
     "text": [
      "longitud de la lista 4\n",
      "True\n",
      "hola\n",
      "2.5\n",
      "123\n"
     ]
    }
   ],
   "source": [
    "print(\"longitud de la lista\",len(lista1)) # Nos muestra la longitud de la lista\n",
    "\n",
    "print(lista1[-1])  # se pueden consultar de manera inversa los elementos\n",
    "print(lista1[-2])\n",
    "print(lista1[-3])\n",
    "print(lista1[-4])"
   ]
  },
  {
   "cell_type": "code",
   "execution_count": 222,
   "metadata": {},
   "outputs": [
    {
     "name": "stdout",
     "output_type": "stream",
     "text": [
      "[12.52, 35.65, 14.2, 99.99, 64.15, 13.65, 87.6, 70.84]\n",
      "70.84\n",
      "[99.99, 64.15, 13.65, 87.6, 70.84]\n",
      "[12.52, 35.65, 14.2, 99.99]\n"
     ]
    }
   ],
   "source": [
    "porcentajes=[12.52,35.65,14.2,99.99,64.15,13.65,87.60,70.84]\n",
    "print(porcentajes)\n",
    "print(porcentajes[-1])\n",
    "print(porcentajes[3:])   # Imprime en un rango, del elemento 3 en adelante\n",
    "print(porcentajes[:4])   # Imprime en un rango, del elemento 0 al 3\n"
   ]
  },
  {
   "cell_type": "code",
   "execution_count": 223,
   "metadata": {},
   "outputs": [
    {
     "name": "stdout",
     "output_type": "stream",
     "text": [
      "8\n",
      "12.52\n",
      "99.99\n",
      "398.6\n"
     ]
    }
   ],
   "source": [
    "# Funciones que operan sobre listas.\n",
    "\n",
    "print(len(porcentajes)) # longitd de la lista\n",
    "print(min(porcentajes)) # Valor minimo almacenado en la lista\n",
    "print(max(porcentajes)) # Valor maximo almacenado en la lista\n",
    "print(sum(porcentajes)) # Suma los elementos de la lista"
   ]
  },
  {
   "cell_type": "code",
   "execution_count": 224,
   "metadata": {},
   "outputs": [
    {
     "name": "stdout",
     "output_type": "stream",
     "text": [
      "[12.52, 35.65, 14.2, 99.99, 64.15, 13.65, 87.6, 70.84, 100.0]\n",
      "9\n"
     ]
    }
   ],
   "source": [
    "# Agregar elementos a la lista\n",
    "\n",
    "porcentajes.append(100.00)      # Agrega un elemento al final de la lista\n",
    "print(porcentajes)\n",
    "print(len(porcentajes))"
   ]
  },
  {
   "cell_type": "code",
   "execution_count": 225,
   "metadata": {},
   "outputs": [
    {
     "name": "stdout",
     "output_type": "stream",
     "text": [
      "[12.52, 13.65, 14.2, 35.65, 64.15, 70.84, 87.6, 99.99, 100.0]\n"
     ]
    }
   ],
   "source": [
    "# Ordenamiento de los elementos de una lista\n",
    "\n",
    "porcentajes.sort()     # Además de ordenar los elementos realiza un cambio en la estructura de datos, por lo tanto se pierde la lista original. \n",
    "print(porcentajes)\n"
   ]
  },
  {
   "cell_type": "code",
   "execution_count": 226,
   "metadata": {},
   "outputs": [
    {
     "name": "stdout",
     "output_type": "stream",
     "text": [
      "[100.0, 99.99, 87.6, 70.84, 64.15, 35.65, 14.2, 13.65, 12.52]\n"
     ]
    }
   ],
   "source": [
    "porcentajes.reverse()   # Ordena de manera decreciente a los elementos y de igual manera altera la lista original \n",
    "print(porcentajes)"
   ]
  },
  {
   "cell_type": "code",
   "execution_count": 227,
   "metadata": {},
   "outputs": [
    {
     "name": "stdout",
     "output_type": "stream",
     "text": [
      "[100.0, 99.99, 87.6, 70.84, 64.15, 35.65, 14.2, 13.65, 12.52]\n",
      "[100.0, 87.6, 70.84, 64.15, 35.65, 14.2, 13.65, 12.52]\n"
     ]
    }
   ],
   "source": [
    "# Eliminar un elemento de la lista\n",
    "print(porcentajes)\n",
    "porcentajes.pop(1)      # Elimina el elemento en la posición dada de la lista\n",
    "print(porcentajes)"
   ]
  },
  {
   "cell_type": "code",
   "execution_count": 228,
   "metadata": {},
   "outputs": [],
   "source": [
    "porcentajes.append(100.00)"
   ]
  },
  {
   "cell_type": "code",
   "execution_count": 229,
   "metadata": {},
   "outputs": [
    {
     "name": "stdout",
     "output_type": "stream",
     "text": [
      "[100.0, 87.6, 70.84, 64.15, 35.65, 14.2, 13.65, 12.52, 100.0]\n",
      "[87.6, 70.84, 64.15, 35.65, 14.2, 13.65, 12.52, 100.0]\n"
     ]
    }
   ],
   "source": [
    "# Eliminar un valor en particular\n",
    "\n",
    "print(porcentajes)\n",
    "porcentajes.remove(100.0)   # Elimina la primer aparición del valor en la lista, si hay varios repetidos solo elimina el primero el aparecer.\n",
    "print(porcentajes)"
   ]
  },
  {
   "cell_type": "markdown",
   "metadata": {},
   "source": [
    "## Tuplas\n",
    "Son listas que no son mutables o editables"
   ]
  },
  {
   "cell_type": "code",
   "execution_count": 230,
   "metadata": {},
   "outputs": [],
   "source": [
    "tupla=(1,2,3,4,5,6)"
   ]
  },
  {
   "cell_type": "code",
   "execution_count": 231,
   "metadata": {},
   "outputs": [
    {
     "name": "stdout",
     "output_type": "stream",
     "text": [
      "(1, 2, 3, 4, 5, 6)\n"
     ]
    },
    {
     "ename": "AttributeError",
     "evalue": "'tuple' object has no attribute 'append'",
     "output_type": "error",
     "traceback": [
      "\u001b[1;31m---------------------------------------------------------------------------\u001b[0m",
      "\u001b[1;31mAttributeError\u001b[0m                            Traceback (most recent call last)",
      "\u001b[1;32mc:\\Users\\alber\\Escritorio\\Machine Learning\\Modulo 1\\Clase 3.ipynb Celda 17\u001b[0m in \u001b[0;36m<cell line: 2>\u001b[1;34m()\u001b[0m\n\u001b[0;32m      <a href='vscode-notebook-cell:/c%3A/Users/alber/Escritorio/Machine%20Learning/Modulo%201/Clase%203.ipynb#X26sZmlsZQ%3D%3D?line=0'>1</a>\u001b[0m \u001b[39mprint\u001b[39m(tupla)\n\u001b[1;32m----> <a href='vscode-notebook-cell:/c%3A/Users/alber/Escritorio/Machine%20Learning/Modulo%201/Clase%203.ipynb#X26sZmlsZQ%3D%3D?line=1'>2</a>\u001b[0m tupla\u001b[39m.\u001b[39;49mappend(\u001b[39m10\u001b[39m)\n",
      "\u001b[1;31mAttributeError\u001b[0m: 'tuple' object has no attribute 'append'"
     ]
    }
   ],
   "source": [
    "print(tupla)\n",
    "tupla.append(10) # Si tratamos de editar la tupla da error"
   ]
  },
  {
   "cell_type": "markdown",
   "metadata": {},
   "source": [
    "## Conjuntos\n",
    "No almacena elementos repetidos"
   ]
  },
  {
   "cell_type": "code",
   "execution_count": 232,
   "metadata": {},
   "outputs": [
    {
     "data": {
      "text/plain": [
       "{1, 2, 3, 4, 5, 6, 7, 8, 9}"
      ]
     },
     "execution_count": 232,
     "metadata": {},
     "output_type": "execute_result"
    }
   ],
   "source": [
    "conjunto={1,2,3,4,4,4,5,6,6,6,7,7,8,8,9,9,9}\n",
    "conjunto"
   ]
  },
  {
   "cell_type": "code",
   "execution_count": 233,
   "metadata": {},
   "outputs": [
    {
     "name": "stdout",
     "output_type": "stream",
     "text": [
      "True\n",
      "False\n",
      "9\n"
     ]
    }
   ],
   "source": [
    "# Verificar si un elemento está en un conjunto\n",
    "\n",
    "print(6 in conjunto)\n",
    "print(10 in conjunto)\n",
    "print(len(conjunto))"
   ]
  },
  {
   "cell_type": "code",
   "execution_count": 234,
   "metadata": {},
   "outputs": [
    {
     "name": "stdout",
     "output_type": "stream",
     "text": [
      "{1, 2, 3, 4, 5, 6, 7, 8, 9, 10}\n",
      "{1, 2, 3, 4, 5, 7, 8, 9, 10}\n"
     ]
    }
   ],
   "source": [
    "# Agregar un elelemento al conjunto\n",
    "\n",
    "conjunto.add(10)\n",
    "print(conjunto)\n",
    "\n",
    "# #liminar elemento del conjunto\n",
    "\n",
    "conjunto.remove(6)\n",
    "print(conjunto)"
   ]
  },
  {
   "cell_type": "code",
   "execution_count": 235,
   "metadata": {},
   "outputs": [],
   "source": [
    "#operaciones con conjuntos\n",
    "\n"
   ]
  },
  {
   "cell_type": "markdown",
   "metadata": {},
   "source": [
    "## Diccionarios\n",
    "Se emplean para crear un mapa de llave:valor"
   ]
  },
  {
   "cell_type": "code",
   "execution_count": 236,
   "metadata": {},
   "outputs": [
    {
     "name": "stdout",
     "output_type": "stream",
     "text": [
      "1\n",
      "3\n",
      "2\n"
     ]
    }
   ],
   "source": [
    "dicci={\n",
    "    \"uno\":1,\n",
    "    \"dos\":2,\n",
    "    \"tres\":3,\n",
    "    \"cuatro\":4\n",
    "}\n",
    "print(dicci[\"uno\"])  # Se consultan los elementos del diccionario por medio de la llave\n",
    "print(dicci[\"tres\"])\n",
    "print(dicci[\"dos\"])"
   ]
  },
  {
   "cell_type": "code",
   "execution_count": 237,
   "metadata": {},
   "outputs": [
    {
     "name": "stdout",
     "output_type": "stream",
     "text": [
      "{'uno': 1, 'dos': 2, 'tres': 3, 'cuatro': 4, 'cinco': 5}\n",
      "{'uno': 1, 'dos': 2, 'tres': 3, 'cuatro': 10, 'cinco': 5}\n"
     ]
    }
   ],
   "source": [
    "# Agregar elementos al diccionario o editar elementos\n",
    "\n",
    "dicci[\"cinco\"]=5        # agrega un elemento si la llave no existe\n",
    "print(dicci)\n",
    "\n",
    "dicci[\"cuatro\"]=10      # cambia el valor asignado a una llave existente\n",
    "print(dicci)"
   ]
  },
  {
   "cell_type": "markdown",
   "metadata": {},
   "source": [
    "# Pandas"
   ]
  },
  {
   "cell_type": "code",
   "execution_count": 238,
   "metadata": {},
   "outputs": [],
   "source": [
    "import pandas as pd"
   ]
  },
  {
   "cell_type": "code",
   "execution_count": 239,
   "metadata": {},
   "outputs": [
    {
     "data": {
      "text/html": [
       "<div>\n",
       "<style scoped>\n",
       "    .dataframe tbody tr th:only-of-type {\n",
       "        vertical-align: middle;\n",
       "    }\n",
       "\n",
       "    .dataframe tbody tr th {\n",
       "        vertical-align: top;\n",
       "    }\n",
       "\n",
       "    .dataframe thead th {\n",
       "        text-align: right;\n",
       "    }\n",
       "</style>\n",
       "<table border=\"1\" class=\"dataframe\">\n",
       "  <thead>\n",
       "    <tr style=\"text-align: right;\">\n",
       "      <th></th>\n",
       "      <th>gender</th>\n",
       "      <th>height</th>\n",
       "      <th>weight</th>\n",
       "    </tr>\n",
       "  </thead>\n",
       "  <tbody>\n",
       "    <tr>\n",
       "      <th>0</th>\n",
       "      <td>0</td>\n",
       "      <td>63.2</td>\n",
       "      <td>168.7</td>\n",
       "    </tr>\n",
       "    <tr>\n",
       "      <th>1</th>\n",
       "      <td>0</td>\n",
       "      <td>68.7</td>\n",
       "      <td>169.8</td>\n",
       "    </tr>\n",
       "    <tr>\n",
       "      <th>2</th>\n",
       "      <td>0</td>\n",
       "      <td>64.8</td>\n",
       "      <td>176.6</td>\n",
       "    </tr>\n",
       "    <tr>\n",
       "      <th>3</th>\n",
       "      <td>0</td>\n",
       "      <td>67.9</td>\n",
       "      <td>246.8</td>\n",
       "    </tr>\n",
       "    <tr>\n",
       "      <th>4</th>\n",
       "      <td>1</td>\n",
       "      <td>68.9</td>\n",
       "      <td>151.6</td>\n",
       "    </tr>\n",
       "  </tbody>\n",
       "</table>\n",
       "</div>"
      ],
      "text/plain": [
       "   gender  height  weight\n",
       "0       0    63.2   168.7\n",
       "1       0    68.7   169.8\n",
       "2       0    64.8   176.6\n",
       "3       0    67.9   246.8\n",
       "4       1    68.9   151.6"
      ]
     },
     "execution_count": 239,
     "metadata": {},
     "output_type": "execute_result"
    }
   ],
   "source": [
    "datos=pd.read_csv(\"C:/Users/alber/Escritorio/Machine Learning/Modulo 1/datos/estatura_peso.csv\")\n",
    "datos.head()  # muestra los primeros 5 registros"
   ]
  },
  {
   "cell_type": "code",
   "execution_count": 240,
   "metadata": {},
   "outputs": [
    {
     "data": {
      "text/html": [
       "<div>\n",
       "<style scoped>\n",
       "    .dataframe tbody tr th:only-of-type {\n",
       "        vertical-align: middle;\n",
       "    }\n",
       "\n",
       "    .dataframe tbody tr th {\n",
       "        vertical-align: top;\n",
       "    }\n",
       "\n",
       "    .dataframe thead th {\n",
       "        text-align: right;\n",
       "    }\n",
       "</style>\n",
       "<table border=\"1\" class=\"dataframe\">\n",
       "  <thead>\n",
       "    <tr style=\"text-align: right;\">\n",
       "      <th></th>\n",
       "      <th>gender</th>\n",
       "      <th>height</th>\n",
       "      <th>weight</th>\n",
       "    </tr>\n",
       "  </thead>\n",
       "  <tbody>\n",
       "    <tr>\n",
       "      <th>65</th>\n",
       "      <td>0</td>\n",
       "      <td>60.6</td>\n",
       "      <td>140.2</td>\n",
       "    </tr>\n",
       "    <tr>\n",
       "      <th>66</th>\n",
       "      <td>1</td>\n",
       "      <td>70.4</td>\n",
       "      <td>141.6</td>\n",
       "    </tr>\n",
       "    <tr>\n",
       "      <th>67</th>\n",
       "      <td>0</td>\n",
       "      <td>66.4</td>\n",
       "      <td>144.4</td>\n",
       "    </tr>\n",
       "    <tr>\n",
       "      <th>68</th>\n",
       "      <td>0</td>\n",
       "      <td>62.3</td>\n",
       "      <td>116.2</td>\n",
       "    </tr>\n",
       "    <tr>\n",
       "      <th>69</th>\n",
       "      <td>1</td>\n",
       "      <td>73.3</td>\n",
       "      <td>175.0</td>\n",
       "    </tr>\n",
       "  </tbody>\n",
       "</table>\n",
       "</div>"
      ],
      "text/plain": [
       "    gender  height  weight\n",
       "65       0    60.6   140.2\n",
       "66       1    70.4   141.6\n",
       "67       0    66.4   144.4\n",
       "68       0    62.3   116.2\n",
       "69       1    73.3   175.0"
      ]
     },
     "execution_count": 240,
     "metadata": {},
     "output_type": "execute_result"
    }
   ],
   "source": [
    "datos.tail() # muestra los ultimos 5 registros"
   ]
  },
  {
   "cell_type": "code",
   "execution_count": 241,
   "metadata": {},
   "outputs": [
    {
     "data": {
      "text/plain": [
       "(70, 3)"
      ]
     },
     "execution_count": 241,
     "metadata": {},
     "output_type": "execute_result"
    }
   ],
   "source": [
    "datos.shape  # Nos indica la dimension del dataframe en (registros,campos)"
   ]
  },
  {
   "cell_type": "code",
   "execution_count": 242,
   "metadata": {},
   "outputs": [
    {
     "name": "stdout",
     "output_type": "stream",
     "text": [
      "70\n",
      "70\n",
      "3\n"
     ]
    }
   ],
   "source": [
    "print(datos.shape[0])   # Nos muestra solo los registros, igual que con la funcion len\n",
    "print(len(datos))\n",
    "print(datos.shape[1])   # Nos muestra solo las columnas o campos"
   ]
  },
  {
   "cell_type": "code",
   "execution_count": 243,
   "metadata": {},
   "outputs": [
    {
     "data": {
      "text/plain": [
       "0     0\n",
       "1     0\n",
       "2     0\n",
       "3     0\n",
       "4     1\n",
       "     ..\n",
       "65    0\n",
       "66    1\n",
       "67    0\n",
       "68    0\n",
       "69    1\n",
       "Name: gender, Length: 70, dtype: int64"
      ]
     },
     "execution_count": 243,
     "metadata": {},
     "output_type": "execute_result"
    }
   ],
   "source": [
    "# Seleccionar solo la columna genders\n",
    "datos[\"gender\"]"
   ]
  },
  {
   "cell_type": "code",
   "execution_count": 244,
   "metadata": {},
   "outputs": [
    {
     "data": {
      "text/html": [
       "<div>\n",
       "<style scoped>\n",
       "    .dataframe tbody tr th:only-of-type {\n",
       "        vertical-align: middle;\n",
       "    }\n",
       "\n",
       "    .dataframe tbody tr th {\n",
       "        vertical-align: top;\n",
       "    }\n",
       "\n",
       "    .dataframe thead th {\n",
       "        text-align: right;\n",
       "    }\n",
       "</style>\n",
       "<table border=\"1\" class=\"dataframe\">\n",
       "  <thead>\n",
       "    <tr style=\"text-align: right;\">\n",
       "      <th></th>\n",
       "      <th>gender</th>\n",
       "      <th>height</th>\n",
       "    </tr>\n",
       "  </thead>\n",
       "  <tbody>\n",
       "    <tr>\n",
       "      <th>0</th>\n",
       "      <td>0</td>\n",
       "      <td>63.2</td>\n",
       "    </tr>\n",
       "    <tr>\n",
       "      <th>1</th>\n",
       "      <td>0</td>\n",
       "      <td>68.7</td>\n",
       "    </tr>\n",
       "    <tr>\n",
       "      <th>2</th>\n",
       "      <td>0</td>\n",
       "      <td>64.8</td>\n",
       "    </tr>\n",
       "    <tr>\n",
       "      <th>3</th>\n",
       "      <td>0</td>\n",
       "      <td>67.9</td>\n",
       "    </tr>\n",
       "    <tr>\n",
       "      <th>4</th>\n",
       "      <td>1</td>\n",
       "      <td>68.9</td>\n",
       "    </tr>\n",
       "    <tr>\n",
       "      <th>...</th>\n",
       "      <td>...</td>\n",
       "      <td>...</td>\n",
       "    </tr>\n",
       "    <tr>\n",
       "      <th>65</th>\n",
       "      <td>0</td>\n",
       "      <td>60.6</td>\n",
       "    </tr>\n",
       "    <tr>\n",
       "      <th>66</th>\n",
       "      <td>1</td>\n",
       "      <td>70.4</td>\n",
       "    </tr>\n",
       "    <tr>\n",
       "      <th>67</th>\n",
       "      <td>0</td>\n",
       "      <td>66.4</td>\n",
       "    </tr>\n",
       "    <tr>\n",
       "      <th>68</th>\n",
       "      <td>0</td>\n",
       "      <td>62.3</td>\n",
       "    </tr>\n",
       "    <tr>\n",
       "      <th>69</th>\n",
       "      <td>1</td>\n",
       "      <td>73.3</td>\n",
       "    </tr>\n",
       "  </tbody>\n",
       "</table>\n",
       "<p>70 rows × 2 columns</p>\n",
       "</div>"
      ],
      "text/plain": [
       "    gender  height\n",
       "0        0    63.2\n",
       "1        0    68.7\n",
       "2        0    64.8\n",
       "3        0    67.9\n",
       "4        1    68.9\n",
       "..     ...     ...\n",
       "65       0    60.6\n",
       "66       1    70.4\n",
       "67       0    66.4\n",
       "68       0    62.3\n",
       "69       1    73.3\n",
       "\n",
       "[70 rows x 2 columns]"
      ]
     },
     "execution_count": 244,
     "metadata": {},
     "output_type": "execute_result"
    }
   ],
   "source": [
    "# Seleccionamos dos o mas columnas\n",
    "datos[[\"gender\",\"height\"]]"
   ]
  },
  {
   "cell_type": "code",
   "execution_count": 245,
   "metadata": {},
   "outputs": [
    {
     "name": "stdout",
     "output_type": "stream",
     "text": [
      "    gender  height  weight\n",
      "13       1    70.2   233.9\n",
      "15       1    71.1   185.5\n",
      "18       0    71.0   140.1\n",
      "19       1    70.4   151.9\n",
      "21       1    70.4   159.0\n",
      "23       1    74.5   194.5\n",
      "30       1    72.0   236.4\n",
      "43       1    70.6   270.6\n",
      "55       1    71.2   157.4\n",
      "58       1    70.7   179.1\n",
      "66       1    70.4   141.6\n",
      "69       1    73.3   175.0\n"
     ]
    }
   ],
   "source": [
    "# Filtrar registros de acuerdo a ciertos parámetros\n",
    "casos1=datos[\"height\"]>=70  # Regresa una lista con valores boleanos dependiendo la condicion\n",
    "print(datos[casos1])  # solo muestra los registros con altura >=70"
   ]
  },
  {
   "cell_type": "code",
   "execution_count": 246,
   "metadata": {},
   "outputs": [
    {
     "name": "stdout",
     "output_type": "stream",
     "text": [
      "    gender  height  weight\n",
      "0        0    63.2   168.7\n",
      "1        0    68.7   169.8\n",
      "2        0    64.8   176.6\n",
      "3        0    67.9   246.8\n",
      "7        0    64.8   137.2\n",
      "9        0    64.7   128.0\n",
      "16       0    63.4   177.6\n",
      "18       0    71.0   140.1\n",
      "20       0    59.5   147.2\n",
      "22       0    61.5   113.0\n",
      "24       0    65.3   145.1\n",
      "26       0    67.2   148.9\n",
      "28       0    60.0   168.4\n",
      "29       0    62.5   146.2\n",
      "35       0    64.6    97.7\n",
      "37       0    66.2   221.9\n",
      "38       0    62.8   168.1\n",
      "39       0    65.3   143.1\n",
      "40       0    65.8   217.7\n",
      "41       0    68.7   133.2\n",
      "42       0    63.8    96.5\n",
      "44       0    61.5   137.2\n",
      "45       0    61.9   124.2\n",
      "46       0    65.1   128.3\n",
      "48       0    57.6   132.4\n",
      "51       0    63.4   163.3\n",
      "54       0    61.6   119.7\n",
      "57       0    66.1   128.3\n",
      "59       0    67.0   140.0\n",
      "62       0    57.7   122.8\n",
      "63       0    62.5   248.5\n",
      "65       0    60.6   140.2\n",
      "67       0    66.4   144.4\n",
      "68       0    62.3   116.2\n"
     ]
    }
   ],
   "source": [
    "casos2=datos[\"gender\"]==0\n",
    "print(datos[casos2])         # solo muestra los registros con genero 0"
   ]
  },
  {
   "cell_type": "code",
   "execution_count": 249,
   "metadata": {},
   "outputs": [
    {
     "data": {
      "text/html": [
       "<div>\n",
       "<style scoped>\n",
       "    .dataframe tbody tr th:only-of-type {\n",
       "        vertical-align: middle;\n",
       "    }\n",
       "\n",
       "    .dataframe tbody tr th {\n",
       "        vertical-align: top;\n",
       "    }\n",
       "\n",
       "    .dataframe thead th {\n",
       "        text-align: right;\n",
       "    }\n",
       "</style>\n",
       "<table border=\"1\" class=\"dataframe\">\n",
       "  <thead>\n",
       "    <tr style=\"text-align: right;\">\n",
       "      <th></th>\n",
       "      <th>gender</th>\n",
       "      <th>height</th>\n",
       "      <th>weight</th>\n",
       "    </tr>\n",
       "  </thead>\n",
       "  <tbody>\n",
       "    <tr>\n",
       "      <th>13</th>\n",
       "      <td>1</td>\n",
       "      <td>70.2</td>\n",
       "      <td>233.9</td>\n",
       "    </tr>\n",
       "    <tr>\n",
       "      <th>15</th>\n",
       "      <td>1</td>\n",
       "      <td>71.1</td>\n",
       "      <td>185.5</td>\n",
       "    </tr>\n",
       "    <tr>\n",
       "      <th>18</th>\n",
       "      <td>0</td>\n",
       "      <td>71.0</td>\n",
       "      <td>140.1</td>\n",
       "    </tr>\n",
       "    <tr>\n",
       "      <th>19</th>\n",
       "      <td>1</td>\n",
       "      <td>70.4</td>\n",
       "      <td>151.9</td>\n",
       "    </tr>\n",
       "    <tr>\n",
       "      <th>21</th>\n",
       "      <td>1</td>\n",
       "      <td>70.4</td>\n",
       "      <td>159.0</td>\n",
       "    </tr>\n",
       "    <tr>\n",
       "      <th>23</th>\n",
       "      <td>1</td>\n",
       "      <td>74.5</td>\n",
       "      <td>194.5</td>\n",
       "    </tr>\n",
       "    <tr>\n",
       "      <th>30</th>\n",
       "      <td>1</td>\n",
       "      <td>72.0</td>\n",
       "      <td>236.4</td>\n",
       "    </tr>\n",
       "    <tr>\n",
       "      <th>43</th>\n",
       "      <td>1</td>\n",
       "      <td>70.6</td>\n",
       "      <td>270.6</td>\n",
       "    </tr>\n",
       "    <tr>\n",
       "      <th>55</th>\n",
       "      <td>1</td>\n",
       "      <td>71.2</td>\n",
       "      <td>157.4</td>\n",
       "    </tr>\n",
       "    <tr>\n",
       "      <th>58</th>\n",
       "      <td>1</td>\n",
       "      <td>70.7</td>\n",
       "      <td>179.1</td>\n",
       "    </tr>\n",
       "    <tr>\n",
       "      <th>66</th>\n",
       "      <td>1</td>\n",
       "      <td>70.4</td>\n",
       "      <td>141.6</td>\n",
       "    </tr>\n",
       "    <tr>\n",
       "      <th>69</th>\n",
       "      <td>1</td>\n",
       "      <td>73.3</td>\n",
       "      <td>175.0</td>\n",
       "    </tr>\n",
       "  </tbody>\n",
       "</table>\n",
       "</div>"
      ],
      "text/plain": [
       "    gender  height  weight\n",
       "13       1    70.2   233.9\n",
       "15       1    71.1   185.5\n",
       "18       0    71.0   140.1\n",
       "19       1    70.4   151.9\n",
       "21       1    70.4   159.0\n",
       "23       1    74.5   194.5\n",
       "30       1    72.0   236.4\n",
       "43       1    70.6   270.6\n",
       "55       1    71.2   157.4\n",
       "58       1    70.7   179.1\n",
       "66       1    70.4   141.6\n",
       "69       1    73.3   175.0"
      ]
     },
     "execution_count": 249,
     "metadata": {},
     "output_type": "execute_result"
    }
   ],
   "source": [
    "# Personas que pesan mas de 120 y miden mas de 70\n",
    "casos=(datos[\"weight\"]>=120) & (datos[\"height\"]>=70)\n",
    "datos[casos]"
   ]
  },
  {
   "cell_type": "code",
   "execution_count": 267,
   "metadata": {},
   "outputs": [
    {
     "name": "stdout",
     "output_type": "stream",
     "text": [
      "gender      0.0\n",
      "height     63.2\n",
      "weight    168.7\n",
      "Name: 0, dtype: float64\n",
      "\n",
      "    gender  height  weight\n",
      "0        0    63.2   168.7\n",
      "1        0    68.7   169.8\n",
      "2        0    64.8   176.6\n",
      "3        0    67.9   246.8\n",
      "4        1    68.9   151.6\n",
      "5        1    67.8   158.0\n",
      "6        1    68.2   168.6\n",
      "7        0    64.8   137.2\n",
      "8        1    64.3   177.0\n",
      "9        0    64.7   128.0\n",
      "10       1    66.9   168.4\n",
      "\n",
      "   gender  height  weight\n",
      "1       0    68.7   169.8\n",
      "2       0    64.8   176.6\n",
      "3       0    67.9   246.8\n",
      "4       1    68.9   151.6\n"
     ]
    }
   ],
   "source": [
    "# Metodo loc . Para seleccionar registros del dataframe\n",
    "print(datos.loc[0])    # Muestra el primer registro del dataframe\n",
    "print()\n",
    "print(datos.loc[:10])  # Mestra los registros hasta el numero deseado\n",
    "print()\n",
    "print(datos.loc[1:4])\n"
   ]
  },
  {
   "cell_type": "code",
   "execution_count": 268,
   "metadata": {},
   "outputs": [
    {
     "name": "stdout",
     "output_type": "stream",
     "text": [
      "   gender\n",
      "0       0\n",
      "1       0\n",
      "2       0\n",
      "3       0\n",
      "4       1\n",
      "5       1\n",
      "\n",
      "   gender  height\n",
      "4       1    68.9\n",
      "5       1    67.8\n",
      "6       1    68.2\n",
      "7       0    64.8\n",
      "8       1    64.3\n"
     ]
    }
   ],
   "source": [
    "print(datos.loc[:5,[\"gender\"]])\n",
    "print()\n",
    "print(datos.loc[4:8,[\"gender\",\"height\"]])"
   ]
  },
  {
   "cell_type": "code",
   "execution_count": 280,
   "metadata": {},
   "outputs": [
    {
     "name": "stdout",
     "output_type": "stream",
     "text": [
      "66.38428571428572\n",
      "35.317419587138524\n",
      "57.6\n",
      "66.9\n"
     ]
    }
   ],
   "source": [
    "# Algunas medidas de tendencia central\n",
    "print(datos[\"height\"].mean())   # Media\n",
    "print(datos[\"weight\"].std())    # Desviacion estandar\n",
    "print(datos[\"height\"].min())    # La estatura mas baja\n",
    "print(datos[\"height\"].median()) # Mediana "
   ]
  },
  {
   "cell_type": "code",
   "execution_count": 282,
   "metadata": {},
   "outputs": [
    {
     "data": {
      "text/plain": [
       "1    36\n",
       "0    34\n",
       "Name: gender, dtype: int64"
      ]
     },
     "execution_count": 282,
     "metadata": {},
     "output_type": "execute_result"
    }
   ],
   "source": [
    "# Conteo de valores\n",
    "\n",
    "datos[\"gender\"].value_counts()"
   ]
  },
  {
   "cell_type": "code",
   "execution_count": 284,
   "metadata": {},
   "outputs": [
    {
     "data": {
      "text/plain": [
       "<AxesSubplot:>"
      ]
     },
     "execution_count": 284,
     "metadata": {},
     "output_type": "execute_result"
    },
    {
     "data": {
      "image/png": "[encoded data removed]",
      "text/plain": [
       "<Figure size 432x288 with 1 Axes>"
      ]
     },
     "metadata": {
      "needs_background": "light"
     },
     "output_type": "display_data"
    }
   ],
   "source": [
    "genero = datos[\"gender\"].value_counts()\n",
    "genero.plot(kind=\"bar\")"
   ]
  },
  {
   "cell_type": "markdown",
   "metadata": {},
   "source": [
    "# Numpy"
   ]
  },
  {
   "cell_type": "code",
   "execution_count": 285,
   "metadata": {},
   "outputs": [],
   "source": [
    "import numpy as np"
   ]
  },
  {
   "cell_type": "code",
   "execution_count": 287,
   "metadata": {},
   "outputs": [
    {
     "data": {
      "text/plain": [
       "array([0., 0., 0., 0., 0., 0., 0., 0., 0., 0.])"
      ]
     },
     "execution_count": 287,
     "metadata": {},
     "output_type": "execute_result"
    }
   ],
   "source": [
    "# Vector de ceros\n",
    "zeros = np.zeros(10)\n",
    "zeros"
   ]
  },
  {
   "cell_type": "code",
   "execution_count": 289,
   "metadata": {},
   "outputs": [
    {
     "data": {
      "text/plain": [
       "array([1., 1., 1., 1., 1.])"
      ]
     },
     "execution_count": 289,
     "metadata": {},
     "output_type": "execute_result"
    }
   ],
   "source": [
    "# VEctor de unos\n",
    "unos = np.ones(5)\n",
    "unos"
   ]
  },
  {
   "cell_type": "code",
   "execution_count": 290,
   "metadata": {},
   "outputs": [
    {
     "data": {
      "text/plain": [
       "array([0, 0, 0, 1, 1, 1, 1, 1])"
      ]
     },
     "execution_count": 290,
     "metadata": {},
     "output_type": "execute_result"
    }
   ],
   "source": [
    "np.repeat([0,1],[3,5])  # Crear un vector con 3 entradas 0 y 5 entradas 1"
   ]
  },
  {
   "cell_type": "code",
   "execution_count": 300,
   "metadata": {},
   "outputs": [
    {
     "name": "stdout",
     "output_type": "stream",
     "text": [
      "[0 0 0 0 0 1 1 1 1 1 1 1 1 1 1 2 2 2 2 2 2 2]\n",
      "1\n",
      "0\n",
      "[1 1 1 1 1 1 1 1 1 1 2 2 2 2 2 2 2]\n",
      "[0 0 0 0 0 1 1 1 1 1 1 1 1 1 1]\n",
      "[1 1 1 1 1]\n"
     ]
    }
   ],
   "source": [
    "lista=np.repeat([0,1,2],[5,10,7])\n",
    "print(lista)\n",
    "print(lista[5])\n",
    "print(lista[4])\n",
    "print(lista[5:])\n",
    "print(lista[:15])\n",
    "print(lista[5:10])"
   ]
  },
  {
   "cell_type": "code",
   "execution_count": 301,
   "metadata": {},
   "outputs": [
    {
     "data": {
      "text/plain": [
       "array([ 0,  1,  2,  3,  4,  5,  6,  7,  8,  9, 10, 11, 12, 13, 14, 15, 16,\n",
       "       17, 18, 19])"
      ]
     },
     "execution_count": 301,
     "metadata": {},
     "output_type": "execute_result"
    }
   ],
   "source": [
    "lista=np.arange(20) #crea un vector en un rango dado\n",
    "lista"
   ]
  },
  {
   "cell_type": "code",
   "execution_count": 304,
   "metadata": {},
   "outputs": [
    {
     "data": {
      "text/plain": [
       "array([-20. , -16.5, -13. ,  -9.5,  -6. ,  -2.5,   1. ,   4.5,   8. ,\n",
       "        11.5,  15. ,  18.5])"
      ]
     },
     "execution_count": 304,
     "metadata": {},
     "output_type": "execute_result"
    }
   ],
   "source": [
    "np.arange(-20,20,3.5)  # Crea un vector el cual puede ir aumentando en decimales"
   ]
  },
  {
   "cell_type": "code",
   "execution_count": 309,
   "metadata": {},
   "outputs": [
    {
     "data": {
      "text/plain": [
       "array([1. , 1.1, 1.2, 1.3, 1.4, 1.5, 1.6, 1.7, 1.8, 1.9, 2. ])"
      ]
     },
     "execution_count": 309,
     "metadata": {},
     "output_type": "execute_result"
    }
   ],
   "source": [
    "np.linspace(1,2,11) # Divide el intervalo en 10 partes"
   ]
  },
  {
   "cell_type": "code",
   "execution_count": 315,
   "metadata": {},
   "outputs": [
    {
     "name": "stdout",
     "output_type": "stream",
     "text": [
      "[[1 1 1 1]\n",
      " [1 1 1 1]\n",
      " [1 1 1 1]\n",
      " [1 1 1 1]\n",
      " [1 1 1 1]]\n"
     ]
    },
    {
     "data": {
      "text/plain": [
       "(5, 4)"
      ]
     },
     "execution_count": 315,
     "metadata": {},
     "output_type": "execute_result"
    }
   ],
   "source": [
    "# Matrices o tablas\n",
    "# np.full([dimension de la matriz], valor, tipo)\n",
    "tabla=np.full([5,4],1)\n",
    "print(tabla)\n",
    "tabla.shape"
   ]
  },
  {
   "cell_type": "code",
   "execution_count": 330,
   "metadata": {},
   "outputs": [
    {
     "name": "stdout",
     "output_type": "stream",
     "text": [
      "[ 0  1  2  3  4  5  6  7  8  9 10 11]\n",
      "(12,)\n",
      "[[ 0  1  2]\n",
      " [ 3  4  5]\n",
      " [ 6  7  8]\n",
      " [ 9 10 11]]\n",
      "\n"
     ]
    },
    {
     "data": {
      "text/plain": [
       "array([[ 0,  1,  2,  3],\n",
       "       [ 4,  5,  6,  7],\n",
       "       [ 8,  9, 10, 11]])"
      ]
     },
     "execution_count": 330,
     "metadata": {},
     "output_type": "execute_result"
    }
   ],
   "source": [
    "# Convertir lista a matriz\n",
    "\n",
    "lista2=np.arange(12)\n",
    "print(lista2)\n",
    "print(lista2.shape)\n",
    "\n",
    "print(lista2.reshape([4,3]))  #reshape convierte la lista a mtriz\n",
    "print()\n",
    "tabla2=lista2.reshape([3,4])\n",
    "tabla2"
   ]
  },
  {
   "cell_type": "code",
   "execution_count": 338,
   "metadata": {},
   "outputs": [
    {
     "name": "stdout",
     "output_type": "stream",
     "text": [
      "[0 1 2 3]\n",
      "[0 4 8]\n",
      "10\n"
     ]
    }
   ],
   "source": [
    "# Seleccionar renglones de una tabla\n",
    "print(tabla2[0,:])  # primer renglon de la tabla\n",
    "print(tabla2[:,0])  # primer columna de la tabla\n",
    "print(tabla2[2,2])  # Valor del tercer renglon y tercera columna"
   ]
  },
  {
   "cell_type": "code",
   "execution_count": 354,
   "metadata": {},
   "outputs": [
    {
     "data": {
      "text/plain": [
       "array([0.82326278, 0.21263534, 0.27967033, 0.17466123, 0.0745419 ,\n",
       "       0.10140683, 0.25920014, 0.184062  , 0.85123512, 0.86326331,\n",
       "       0.96040317, 0.83234649, 0.02775683, 0.31651713, 0.9150045 ,\n",
       "       0.27801571, 0.65133125, 0.43169747, 0.07227222, 0.4384882 ,\n",
       "       0.60624591, 0.61900283, 0.93336292, 0.78477326, 0.63248304,\n",
       "       0.21985517, 0.62038112, 0.44378388, 0.30648792, 0.34482593,\n",
       "       0.36383597, 0.17184418, 0.03507578, 0.00841249, 0.08873445,\n",
       "       0.55371961, 0.55879879, 0.79201825, 0.77796555, 0.66178418,\n",
       "       0.66415425, 0.87951768, 0.66551835, 0.8673804 , 0.72971748,\n",
       "       0.39667671, 0.32424982, 0.75722549, 0.08709194, 0.45247687])"
      ]
     },
     "execution_count": 354,
     "metadata": {},
     "output_type": "execute_result"
    }
   ],
   "source": [
    "# Generar numeros aleatorios del 0 al 1\n",
    "np.random.rand(50)"
   ]
  },
  {
   "cell_type": "code",
   "execution_count": 344,
   "metadata": {},
   "outputs": [
    {
     "data": {
      "text/plain": [
       "array([ 6, 34, 26,  1, 26, 13, 39, 28,  9, 11, 33, 22, 18, 36, 44,  5,  5,\n",
       "       31, 46, 30])"
      ]
     },
     "execution_count": 344,
     "metadata": {},
     "output_type": "execute_result"
    }
   ],
   "source": [
    "# Generacion de numeros aleatorios enteros\n",
    "np.random.randint(0,50,20)"
   ]
  },
  {
   "cell_type": "code",
   "execution_count": 364,
   "metadata": {},
   "outputs": [
    {
     "data": {
      "text/plain": [
       "array([47, 19, 38, 12, 24, 15, 49, 23, 41, 26])"
      ]
     },
     "execution_count": 364,
     "metadata": {},
     "output_type": "execute_result"
    }
   ],
   "source": [
    "# Generacion de una semilla para obtener numeros aleatorios que no cambien para sacar muestras del mismo conjunto de datos\n",
    "np.random.seed(1234)\n",
    "np.random.randint(0,50,10) # no importa cuantas veces se actualice, los numeros no cambian"
   ]
  },
  {
   "cell_type": "code",
   "execution_count": 375,
   "metadata": {},
   "outputs": [
    {
     "name": "stdout",
     "output_type": "stream",
     "text": [
      "[0 0 0 0 0 1 1 1 1 1]\n"
     ]
    }
   ],
   "source": [
    "# Barajar o revoolver datos que se encuentran ordenados\n",
    "lista3=np.repeat([0,1],[5,5])\n",
    "print(lista3)\n"
   ]
  },
  {
   "cell_type": "code",
   "execution_count": 377,
   "metadata": {},
   "outputs": [
    {
     "data": {
      "text/plain": [
       "array([1, 0, 1, 0, 1, 0, 0, 1, 0, 1])"
      ]
     },
     "execution_count": 377,
     "metadata": {},
     "output_type": "execute_result"
    }
   ],
   "source": [
    "np.random.shuffle(lista3)\n",
    "lista3"
   ]
  }
 ],
 "metadata": {
  "kernelspec": {
   "display_name": "Python 3.10.5 64-bit",
   "language": "python",
   "name": "python3"
  },
  "language_info": {
   "codemirror_mode": {
    "name": "ipython",
    "version": 3
   },
   "file_extension": ".py",
   "mimetype": "text/x-python",
   "name": "python",
   "nbconvert_exporter": "python",
   "pygments_lexer": "ipython3",
   "version": "3.10.5"
  },
  "orig_nbformat": 4,
  "vscode": {
   "interpreter": {
    "hash": "7600a12950a547366bb7a6732117e300ffd26224351912980486e1126c5d0f9a"
   }
  }
 },
 "nbformat": 4,
 "nbformat_minor": 2
}
