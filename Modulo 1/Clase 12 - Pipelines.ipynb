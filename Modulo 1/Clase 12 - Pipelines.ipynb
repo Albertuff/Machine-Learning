{
 "cells": [
  {
   "cell_type": "markdown",
   "metadata": {},
   "source": [
    "# Pipeline: O secuencia de funciones de preprocesamiento y entrenamiento"
   ]
  },
  {
   "cell_type": "code",
   "execution_count": 4,
   "metadata": {},
   "outputs": [],
   "source": [
    "import numpy as np\n",
    "import pandas as pd\n",
    "# Entorno Scikit Learn\n",
    "from sklearn.neighbors import KNeighborsRegressor   # Algoritmo\n",
    "from sklearn.metrics import mean_squared_error, mean_absolute_error      # Metrica de desempeño ( para ver que tan bien se ajusta nuestro modelo a los datos)\n",
    "from sklearn.model_selection import train_test_split    # Para dividir el conjunto de prueba y entrenamiento\n",
    "from sklearn.model_selection import KFold, RepeatedKFold, cross_val_score   # Validación cruzada \n",
    "from sklearn.model_selection import GridSearchCV\n",
    "# Para gráficos\n",
    "import matplotlib.pyplot as plt"
   ]
  },
  {
   "cell_type": "code",
   "execution_count": 5,
   "metadata": {},
   "outputs": [
    {
     "data": {
      "text/html": [
       "<div>\n",
       "<style scoped>\n",
       "    .dataframe tbody tr th:only-of-type {\n",
       "        vertical-align: middle;\n",
       "    }\n",
       "\n",
       "    .dataframe tbody tr th {\n",
       "        vertical-align: top;\n",
       "    }\n",
       "\n",
       "    .dataframe thead th {\n",
       "        text-align: right;\n",
       "    }\n",
       "</style>\n",
       "<table border=\"1\" class=\"dataframe\">\n",
       "  <thead>\n",
       "    <tr style=\"text-align: right;\">\n",
       "      <th></th>\n",
       "      <th>gender</th>\n",
       "      <th>height</th>\n",
       "      <th>weight</th>\n",
       "    </tr>\n",
       "  </thead>\n",
       "  <tbody>\n",
       "    <tr>\n",
       "      <th>0</th>\n",
       "      <td>0</td>\n",
       "      <td>63.2</td>\n",
       "      <td>168.7</td>\n",
       "    </tr>\n",
       "    <tr>\n",
       "      <th>1</th>\n",
       "      <td>0</td>\n",
       "      <td>68.7</td>\n",
       "      <td>169.8</td>\n",
       "    </tr>\n",
       "    <tr>\n",
       "      <th>2</th>\n",
       "      <td>0</td>\n",
       "      <td>64.8</td>\n",
       "      <td>176.6</td>\n",
       "    </tr>\n",
       "    <tr>\n",
       "      <th>3</th>\n",
       "      <td>0</td>\n",
       "      <td>67.9</td>\n",
       "      <td>246.8</td>\n",
       "    </tr>\n",
       "    <tr>\n",
       "      <th>4</th>\n",
       "      <td>1</td>\n",
       "      <td>68.9</td>\n",
       "      <td>151.6</td>\n",
       "    </tr>\n",
       "  </tbody>\n",
       "</table>\n",
       "</div>"
      ],
      "text/plain": [
       "   gender  height  weight\n",
       "0       0    63.2   168.7\n",
       "1       0    68.7   169.8\n",
       "2       0    64.8   176.6\n",
       "3       0    67.9   246.8\n",
       "4       1    68.9   151.6"
      ]
     },
     "execution_count": 5,
     "metadata": {},
     "output_type": "execute_result"
    }
   ],
   "source": [
    "# Datos\n",
    "data=pd.read_csv(\"https://raw.githubusercontent.com/Albertuff/Machine-Learning/master/datos/estatura_peso.csv\")\n",
    "data.head()"
   ]
  },
  {
   "cell_type": "code",
   "execution_count": 6,
   "metadata": {},
   "outputs": [
    {
     "name": "stdout",
     "output_type": "stream",
     "text": [
      " La mejor configuración del hiperparámetro k es: {'Modelo__n_neighbors': 7}\n",
      " El mejor score (error absoluto promedio) es: 25.392857142857146\n"
     ]
    }
   ],
   "source": [
    "from sklearn.pipeline import Pipeline\n",
    "from sklearn import preprocessing\n",
    "\n",
    "X=data[[\"height\"]]\n",
    "Y=data[\"weight\"]\n",
    "\n",
    "# Primero se arreglan los datos faltantes si es que hay, luego se hace el reescalamiento y despues se agrega el modelo\n",
    "Pipe=Pipeline([(\"zscore\",preprocessing.StandardScaler()),(\"Modelo\",KNeighborsRegressor())]) #Los preocesos se definen como una lista\n",
    "# El hiperparámetro del modelo es: n_neighbors\n",
    "\n",
    "# Definimos el método de busqueda\n",
    "espacio_parametros={\"Modelo__n_neighbors\":np.arange(1,50)}  # Para pasar los hiperparámetros al pipe es necesario, anteponer al nomobre del hiperparámetro\n",
    "                                                            # el nombre que le estamos dando en el pipe a nuestro algoritmo, enn este caso: Modelo, seguido de dos guiones bajos\n",
    "                                                            # Modelo__\n",
    "\n",
    "rejilla=GridSearchCV(Pipe,param_grid=espacio_parametros,scoring=\"neg_mean_absolute_error\",n_jobs=-1,cv=10)\n",
    "rejilla.fit(X,Y)\n",
    "print(f\" La mejor configuración del hiperparámetro k es: {rejilla.best_params_}\")\n",
    "print(f\" El mejor score (error absoluto promedio) es: {-rejilla.best_score_}\")"
   ]
  },
  {
   "cell_type": "code",
   "execution_count": 7,
   "metadata": {},
   "outputs": [
    {
     "name": "stdout",
     "output_type": "stream",
     "text": [
      " El mejor score (error absoluto promedio) es: 27.241248150676103\n"
     ]
    }
   ],
   "source": [
    "# Sabemos que este valor del score, es una metrica \"optimista\". Para tener uan metrica mas realista, hacemos una validacion cruzada anidada\n",
    "\n",
    "# cv_interna=KFold(n_splits=10)\n",
    "# cv_externa=KFold(n_splits=10)\n",
    "\n",
    "rejilla=GridSearchCV(Pipe,param_grid=espacio_parametros,scoring=\"neg_mean_absolute_error\",n_jobs=-1,cv=10)\n",
    "puntajes=cross_val_score(rejilla,X,Y,cv=10,scoring=\"neg_mean_absolute_error\",n_jobs=-1)\n",
    "print(f\" El mejor score (error absoluto promedio) es: {-puntajes.mean()}\")"
   ]
  },
  {
   "cell_type": "code",
   "execution_count": 8,
   "metadata": {},
   "outputs": [
    {
     "name": "stdout",
     "output_type": "stream",
     "text": [
      " El mejor score (error absoluto promedio) es: 27.72950544671992\n"
     ]
    }
   ],
   "source": [
    "# Otro tipo de validación cruzada\n",
    "\n",
    "cv_interna=KFold(n_splits=10)\n",
    "cv_externa=RepeatedKFold(n_splits=10,n_repeats=5)\n",
    "rejilla=GridSearchCV(Pipe,param_grid=espacio_parametros,scoring=\"neg_mean_absolute_error\",n_jobs=-1,cv=cv_interna)\n",
    "puntajes=cross_val_score(rejilla,X,Y,cv=cv_externa,scoring=\"neg_mean_absolute_error\",n_jobs=-1)\n",
    "print(f\" El mejor score (error absoluto promedio) es: {-puntajes.mean()}\")"
   ]
  },
  {
   "cell_type": "markdown",
   "metadata": {},
   "source": []
  }
 ],
 "metadata": {
  "kernelspec": {
   "display_name": "Python 3.10.5 64-bit",
   "language": "python",
   "name": "python3"
  },
  "language_info": {
   "codemirror_mode": {
    "name": "ipython",
    "version": 3
   },
   "file_extension": ".py",
   "mimetype": "text/x-python",
   "name": "python",
   "nbconvert_exporter": "python",
   "pygments_lexer": "ipython3",
   "version": "3.10.5"
  },
  "orig_nbformat": 4,
  "vscode": {
   "interpreter": {
    "hash": "7600a12950a547366bb7a6732117e300ffd26224351912980486e1126c5d0f9a"
   }
  }
 },
 "nbformat": 4,
 "nbformat_minor": 2
}
