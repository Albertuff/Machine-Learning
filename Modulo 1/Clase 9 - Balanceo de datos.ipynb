{
 "cells": [
  {
   "cell_type": "markdown",
   "metadata": {},
   "source": [
    "# Veremos como resolver el problema de bases de datos no balanceadas"
   ]
  },
  {
   "cell_type": "code",
   "execution_count": 1,
   "metadata": {},
   "outputs": [],
   "source": [
    "# Cargamos las librerias\n",
    "\n",
    "import numpy as np\n",
    "import pandas as pd\n",
    "from sklearn.model_selection import KFold, cross_val_score, RepeatedKFold, train_test_split\n",
    "from sklearn.neighbors import KNeighborsClassifier\n",
    "from sklearn.model_selection import GridSearchCV\n",
    "import matplotlib.pyplot as plt\n",
    "from sklearn.metrics import plot_confusion_matrix\n",
    "from sklearn import metrics\n",
    "\n",
    "# Cargar los datos\n",
    "\n",
    "datos=pd.read_csv(\"https://raw.githubusercontent.com/Albertuff/Machine-Learning/master/datos/default.csv\")\n",
    "\n",
    "# Definimos los atributos(features) y las variable objeivo(target)\n",
    "\n",
    "X=datos[[\"Empleado\",\"Balance\",\"Salario_anual\"]]           # Atributos\n",
    "Y=datos[\"Impago\"]                                         # Respuesta"
   ]
  },
  {
   "cell_type": "markdown",
   "metadata": {},
   "source": [
    "### Cómo notamos que hay desbalanceo en los datos?"
   ]
  },
  {
   "cell_type": "code",
   "execution_count": 2,
   "metadata": {},
   "outputs": [
    {
     "data": {
      "text/plain": [
       "0    9667\n",
       "1     333\n",
       "Name: Impago, dtype: int64"
      ]
     },
     "execution_count": 2,
     "metadata": {},
     "output_type": "execute_result"
    }
   ],
   "source": [
    "pd.value_counts(Y)"
   ]
  },
  {
   "cell_type": "markdown",
   "metadata": {},
   "source": [
    "### Tengo mas clientes puntuales (9667) que impuntuales (333)"
   ]
  },
  {
   "cell_type": "markdown",
   "metadata": {},
   "source": [
    "### Clasificación cruda de la base de datos"
   ]
  },
  {
   "cell_type": "code",
   "execution_count": 3,
   "metadata": {},
   "outputs": [
    {
     "name": "stdout",
     "output_type": "stream",
     "text": [
      "              precision    recall  f1-score   support\n",
      "\n",
      "           0       0.97      1.00      0.98      1934\n",
      "           1       0.50      0.06      0.11        66\n",
      "\n",
      "    accuracy                           0.97      2000\n",
      "   macro avg       0.73      0.53      0.55      2000\n",
      "weighted avg       0.95      0.97      0.95      2000\n",
      "\n"
     ]
    }
   ],
   "source": [
    "from sklearn.metrics import classification_report\n",
    "\n",
    "# Dividimos el conjunto de datos en prueba y entrenamiento\n",
    "\n",
    "x_train, x_test, y_train, y_test=train_test_split(X,Y,test_size=0.2,random_state=1234,stratify=Y) \n",
    "#stratify =Y garantiza que todo el conjunto de prueba y entrenamiento tenfan \n",
    "\n",
    "# Definimos el modelo y lo entrenamos\n",
    "\n",
    "modelo=KNeighborsClassifier(n_neighbors=4,n_jobs=-1).fit(x_train,y_train)\n",
    "\n",
    "# Hacemos las predicciones\n",
    "\n",
    "predicciones=modelo.predict(x_test)\n",
    "print(classification_report(y_test,predicciones))"
   ]
  },
  {
   "cell_type": "markdown",
   "metadata": {},
   "source": [
    "# Resampling: Sobremuestreo y Submuestreo\n",
    "## Sobremuestreo\n",
    "Se sobremuestrea la clase minoritaria para tener tantos 1's como 0's"
   ]
  },
  {
   "cell_type": "code",
   "execution_count": 4,
   "metadata": {},
   "outputs": [
    {
     "name": "stdout",
     "output_type": "stream",
     "text": [
      "      Empleado   Balance  Salario_anual  Impago\n",
      "5525         1   9020.28      615927.84       0\n",
      "5034         0   8238.36      309357.36       0\n",
      "4218         1  17717.76      608422.20       0\n",
      "917          1   9839.04      347521.32       0\n",
      "6637         1  11665.08      314773.80       0\n",
      "...        ...       ...            ...     ...\n",
      "932          1  14922.60      451612.20       1\n",
      "1939         0  20984.16      164585.04       1\n",
      "3156         1  22794.60      552914.88       1\n",
      "4952         1  12345.24      484161.96       1\n",
      "9522         1  11509.92      713222.76       1\n",
      "\n",
      "[15466 rows x 4 columns]\n"
     ]
    },
    {
     "name": "stderr",
     "output_type": "stream",
     "text": [
      "C:\\Users\\alber\\AppData\\Local\\Temp\\ipykernel_9588\\1567651043.py:6: UserWarning: Boolean Series key will be reindexed to match DataFrame index.\n",
      "  clase_mayoritaria=train[Y==0]\n",
      "C:\\Users\\alber\\AppData\\Local\\Temp\\ipykernel_9588\\1567651043.py:8: UserWarning: Boolean Series key will be reindexed to match DataFrame index.\n",
      "  clase_minoritaria=train[Y==1]\n"
     ]
    },
    {
     "data": {
      "text/plain": [
       "0    7733\n",
       "1    7733\n",
       "Name: Impago, dtype: int64"
      ]
     },
     "execution_count": 4,
     "metadata": {},
     "output_type": "execute_result"
    }
   ],
   "source": [
    "from sklearn.utils import resample\n",
    "\n",
    "train, test=train_test_split(datos,test_size=0.2,random_state=1234)\n",
    "\n",
    "# Vamos a definir la clase mayoritaria\n",
    "clase_mayoritaria=train[Y==0]\n",
    "# Definimos la clase minoritaria\n",
    "clase_minoritaria=train[Y==1]\n",
    "\n",
    "m=len(clase_mayoritaria)    # Elementos en la clase mayoritaria 7733\n",
    "\n",
    "# Generamos una muestra de 7733 casos de clientes que caen en impago\n",
    "sobremuestra=resample(clase_minoritaria,replace=True,n_samples=m,random_state=1234)\n",
    "\n",
    "# El nuevo conjunto de entrenamiento es:\n",
    "muestra_nueva=pd.concat([clase_mayoritaria,sobremuestra])\n",
    "print(muestra_nueva)\n",
    "y=muestra_nueva.Impago\n",
    "pd.value_counts(y)\n"
   ]
  },
  {
   "cell_type": "code",
   "execution_count": 5,
   "metadata": {},
   "outputs": [
    {
     "name": "stdout",
     "output_type": "stream",
     "text": [
      "              precision    recall  f1-score   support\n",
      "\n",
      "           0       1.00      0.96      0.98      1533\n",
      "           1       0.96      1.00      0.98      1561\n",
      "\n",
      "    accuracy                           0.98      3094\n",
      "   macro avg       0.98      0.98      0.98      3094\n",
      "weighted avg       0.98      0.98      0.98      3094\n",
      "\n"
     ]
    }
   ],
   "source": [
    "# Ahora muestra_nueva es la nueva base de datos en la cual tenemos tantos 1's como 0's \n",
    "\n",
    "\n",
    "X=muestra_nueva[[\"Empleado\",\"Balance\",\"Salario_anual\"]]           # Atributos\n",
    "Y=muestra_nueva[\"Impago\"]                                         # Respuesta\n",
    "\n",
    "x_train, x_test, y_train, y_test=train_test_split(X,Y,test_size=0.2,random_state=1234)\n",
    "\n",
    "# Definimos el modelo y lo entrenamos\n",
    "\n",
    "modelo=KNeighborsClassifier(n_neighbors=4,n_jobs=-1).fit(x_train,y_train)\n",
    "\n",
    "# Hacemos las predicciones\n",
    "\n",
    "predicciones=modelo.predict(x_test)\n",
    "print(classification_report(y_test,predicciones))"
   ]
  },
  {
   "cell_type": "markdown",
   "metadata": {},
   "source": [
    "# Submuestreo"
   ]
  },
  {
   "cell_type": "code",
   "execution_count": 6,
   "metadata": {},
   "outputs": [
    {
     "name": "stdout",
     "output_type": "stream",
     "text": [
      "      Empleado   Balance  Salario_anual  Impago\n",
      "4709         1  24902.28      490589.88       1\n",
      "3921         1  19594.68      531918.96       1\n",
      "8456         1  21789.48      379590.96       1\n",
      "6847         0  23485.44      225671.40       1\n",
      "7199         1  22003.80      522477.36       1\n",
      "...        ...       ...            ...     ...\n",
      "9974         0  11199.96      312616.80       0\n",
      "1799         1   1122.84      515169.36       0\n",
      "8559         0   7013.88      168208.68       0\n",
      "9886         0  11076.24      229639.32       0\n",
      "4701         1      0.00      399265.80       0\n",
      "\n",
      "[534 rows x 4 columns]\n"
     ]
    },
    {
     "data": {
      "text/plain": [
       "1    267\n",
       "0    267\n",
       "Name: Impago, dtype: int64"
      ]
     },
     "execution_count": 6,
     "metadata": {},
     "output_type": "execute_result"
    }
   ],
   "source": [
    "from sklearn.utils import resample\n",
    "# Se submuestrea la clase mayoritaria para tener tantos 0's como 1's. (Voy a tomar menos elementos de la clase mayoritaria)\n",
    "\n",
    "train, test=train_test_split(datos,test_size=0.2,random_state=1234)\n",
    "\n",
    "# Vamos a definir la clase mayoritaria\n",
    "clase_mayoritaria=train[train.Impago==0]\n",
    "# Definimos la clase minoritaria\n",
    "clase_menor=train[train.Impago==1]\n",
    "\n",
    "m=len(clase_menor)    # Elementos en la clase menor\n",
    "\n",
    "# Generamos una muestra de 267 casos de clientes que pagan puntualmente\n",
    "submuestra=resample(clase_mayoritaria,replace=False,n_samples=m,random_state=1234)\n",
    "\n",
    "# El nuevo conjunto de entrenamiento es:\n",
    "muestra_nueva=pd.concat([clase_menor,submuestra])\n",
    "print(muestra_nueva)\n",
    "y=muestra_nueva.Impago\n",
    "pd.value_counts(y)"
   ]
  },
  {
   "cell_type": "code",
   "execution_count": 7,
   "metadata": {},
   "outputs": [
    {
     "name": "stdout",
     "output_type": "stream",
     "text": [
      "              precision    recall  f1-score   support\n",
      "\n",
      "           0       0.72      0.94      0.82        50\n",
      "           1       0.93      0.68      0.79        57\n",
      "\n",
      "    accuracy                           0.80       107\n",
      "   macro avg       0.83      0.81      0.80       107\n",
      "weighted avg       0.83      0.80      0.80       107\n",
      "\n"
     ]
    }
   ],
   "source": [
    "# Ahora muestra_nueva es la nueva base de datos en la cual tenemos tantos 1's como 0's \n",
    "\n",
    "\n",
    "X=muestra_nueva[[\"Empleado\",\"Balance\",\"Salario_anual\"]]           # Atributos\n",
    "Y=muestra_nueva[\"Impago\"]                                         # Respuesta\n",
    "\n",
    "x_train, x_test, y_train, y_test=train_test_split(X,Y,test_size=0.2,random_state=1234)\n",
    "\n",
    "# Definimos el modelo y lo entrenamos\n",
    "\n",
    "modelo=KNeighborsClassifier(n_neighbors=4,n_jobs=-1).fit(x_train,y_train)\n",
    "\n",
    "# Hacemos las predicciones\n",
    "\n",
    "predicciones=modelo.predict(x_test)\n",
    "print(classification_report(y_test,predicciones))"
   ]
  },
  {
   "cell_type": "markdown",
   "metadata": {},
   "source": [
    "# Balanceo con la tecnica (SMOTE)\n",
    "# Synthetic Minority Oversampling Technique\n",
    "Solo funciona para atributos continuos."
   ]
  },
  {
   "cell_type": "code",
   "execution_count": 8,
   "metadata": {},
   "outputs": [],
   "source": [
    "from imblearn.over_sampling import SMOTE #pip install imbalanced-learn"
   ]
  },
  {
   "cell_type": "code",
   "execution_count": 9,
   "metadata": {},
   "outputs": [],
   "source": [
    "# Llamamos a la funcion SMOTE\n",
    "smote=SMOTE(sampling_strategy=\"minority\",random_state=1234)\n",
    "# Vamos a sobremuestrear la clase minoritaria "
   ]
  },
  {
   "cell_type": "code",
   "execution_count": 10,
   "metadata": {},
   "outputs": [],
   "source": [
    "# Eliminamos la variable categorica : Empleado\n",
    "X=datos[[\"Balance\",\"Salario_anual\"]]\n",
    "Y=datos[\"Impago\"]"
   ]
  },
  {
   "cell_type": "code",
   "execution_count": 16,
   "metadata": {},
   "outputs": [
    {
     "name": "stdout",
     "output_type": "stream",
     "text": [
      "              precision    recall  f1-score   support\n",
      "\n",
      "           0       0.98      0.93      0.96      1933\n",
      "           1       0.23      0.58      0.33        67\n",
      "\n",
      "    accuracy                           0.92      2000\n",
      "   macro avg       0.61      0.76      0.64      2000\n",
      "weighted avg       0.96      0.92      0.94      2000\n",
      "\n"
     ]
    }
   ],
   "source": [
    "# Agregamos un parametro adicional: stratify, sirve para que las muestras de prueba y entrenamiento mantengan la misma distribucion de respuestas que están en Y (target)\n",
    "\n",
    "X_train, X_test, Y_train, Y_test = train_test_split(X,Y,test_size=0.2,random_state=1234, stratify=Y)\n",
    "\n",
    "# Balanceo de los datos, empleando smote\n",
    "\n",
    "x_train_smote, y_train_smote=smote.fit_resample(X_train,Y_train)    # Aqui ya tenemos la muestra balanceada y no todos los casos son replicas, muchos son artificiales\n",
    "\n",
    "modelo.fit(x_train_smote,y_train_smote)\n",
    "y_predict=modelo.predict(X_test)\n",
    "print(classification_report(Y_test,y_predict))"
   ]
  },
  {
   "cell_type": "code",
   "execution_count": 15,
   "metadata": {},
   "outputs": [
    {
     "data": {
      "text/plain": [
       "0    7734\n",
       "1    7734\n",
       "Name: Impago, dtype: int64"
      ]
     },
     "execution_count": 15,
     "metadata": {},
     "output_type": "execute_result"
    }
   ],
   "source": [
    "y_train_smote.value_counts()"
   ]
  }
 ],
 "metadata": {
  "kernelspec": {
   "display_name": "Python 3.10.5 64-bit",
   "language": "python",
   "name": "python3"
  },
  "language_info": {
   "codemirror_mode": {
    "name": "ipython",
    "version": 3
   },
   "file_extension": ".py",
   "mimetype": "text/x-python",
   "name": "python",
   "nbconvert_exporter": "python",
   "pygments_lexer": "ipython3",
   "version": "3.10.5"
  },
  "orig_nbformat": 4,
  "vscode": {
   "interpreter": {
    "hash": "7600a12950a547366bb7a6732117e300ffd26224351912980486e1126c5d0f9a"
   }
  }
 },
 "nbformat": 4,
 "nbformat_minor": 2
}
