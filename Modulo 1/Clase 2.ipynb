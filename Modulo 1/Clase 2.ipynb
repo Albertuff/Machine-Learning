{
 "cells": [
  {
   "cell_type": "code",
   "execution_count": 2,
   "metadata": {},
   "outputs": [
    {
     "name": "stdout",
     "output_type": "stream",
     "text": [
      "hola\n"
     ]
    }
   ],
   "source": [
    "# Este es un comentario\n",
    "print(\"hola\")"
   ]
  },
  {
   "cell_type": "code",
   "execution_count": 39,
   "metadata": {},
   "outputs": [
    {
     "name": "stdout",
     "output_type": "stream",
     "text": [
      "El valor de la variable es 3.14\n",
      "El valor de la variable es 3.140\n"
     ]
    }
   ],
   "source": [
    "# Declarando variables\n",
    "var1=3.14\n",
    "print(f\"El valor de la variable es {var1}\")\n",
    "print(f\"El valor de la variable es {var1:.3f}\") #decidimos cuantos decimales debe mostrar la variable"
   ]
  },
  {
   "cell_type": "code",
   "execution_count": 11,
   "metadata": {},
   "outputs": [
    {
     "name": "stdout",
     "output_type": "stream",
     "text": [
      "cual es el numero?\n",
      "el numero es : 12\n"
     ]
    },
    {
     "data": {
      "text/plain": [
       "str"
      ]
     },
     "execution_count": 11,
     "metadata": {},
     "output_type": "execute_result"
    }
   ],
   "source": [
    "print(\"cual es el numero?\")\n",
    "numero=input()\n",
    "print(f\"el numero es : {numero}\")\n",
    "\n",
    "type(numero)  # Nos muestra el tipo de dato\n",
    "# El tipo de dato siempre sera str cuando se instroduce con la intrucción input."
   ]
  },
  {
   "cell_type": "code",
   "execution_count": 13,
   "metadata": {},
   "outputs": [
    {
     "data": {
      "text/plain": [
       "float"
      ]
     },
     "execution_count": 13,
     "metadata": {},
     "output_type": "execute_result"
    }
   ],
   "source": [
    "type(4.15)"
   ]
  },
  {
   "cell_type": "code",
   "execution_count": 14,
   "metadata": {},
   "outputs": [
    {
     "data": {
      "text/plain": [
       "int"
      ]
     },
     "execution_count": 14,
     "metadata": {},
     "output_type": "execute_result"
    }
   ],
   "source": [
    "type(4)"
   ]
  },
  {
   "cell_type": "code",
   "execution_count": 15,
   "metadata": {},
   "outputs": [
    {
     "data": {
      "text/plain": [
       "str"
      ]
     },
     "execution_count": 15,
     "metadata": {},
     "output_type": "execute_result"
    }
   ],
   "source": [
    "type(\"Hola\")"
   ]
  },
  {
   "cell_type": "code",
   "execution_count": 16,
   "metadata": {},
   "outputs": [
    {
     "data": {
      "text/plain": [
       "bool"
      ]
     },
     "execution_count": 16,
     "metadata": {},
     "output_type": "execute_result"
    }
   ],
   "source": [
    "type(True)"
   ]
  },
  {
   "cell_type": "code",
   "execution_count": 40,
   "metadata": {},
   "outputs": [
    {
     "name": "stdout",
     "output_type": "stream",
     "text": [
      "cuantos litros de gasolina quieres comprar?\n",
      "la cantidad total es de 82887.8000\n"
     ]
    }
   ],
   "source": [
    "print(\"cuantos litros de gasolina quieres comprar?\")\n",
    "litros=float(input())\n",
    "costo=litros*23.05\n",
    "print(f\"la cantidad total es de {costo:.4f}\")"
   ]
  },
  {
   "cell_type": "code",
   "execution_count": 41,
   "metadata": {},
   "outputs": [
    {
     "name": "stdout",
     "output_type": "stream",
     "text": [
      "cual es la cantidad de pesos que se convertiran a dolares?\n",
      "Es igual a 383.22 dolares.\n"
     ]
    }
   ],
   "source": [
    "#convertidor de divisas\n",
    "valor_dolar=20.5\n",
    "print(\"cual es la cantidad de pesos que se convertiran a dolares?\")\n",
    "pesos=float(input(\"Quiero convertir\"))\n",
    "conversion=pesos/valor_dolar\n",
    "print(f\"Es igual a {conversion:.2f} dolares.\")"
   ]
  },
  {
   "cell_type": "code",
   "execution_count": 49,
   "metadata": {},
   "outputs": [
    {
     "name": "stdout",
     "output_type": "stream",
     "text": [
      "5.1\n",
      "2.5\n",
      "2\n",
      "25\n",
      "3\n"
     ]
    }
   ],
   "source": [
    "# Operadores aritmeticos \n",
    "\n",
    "#suma\n",
    "print(2.1+3)\n",
    "#Division\n",
    "print(10/4)\n",
    "# Division entera\n",
    "print(10//4)\n",
    "# Potencia\n",
    "print(5**2)\n",
    "# Modulo o residuo de la division\n",
    "print(15%4)\n"
   ]
  },
  {
   "cell_type": "code",
   "execution_count": 62,
   "metadata": {},
   "outputs": [
    {
     "name": "stdout",
     "output_type": "stream",
     "text": [
      "False\n",
      "True\n",
      "False\n",
      "True\n",
      "False\n",
      "True\n",
      "False\n"
     ]
    }
   ],
   "source": [
    "# Operadores relacionales\n",
    "\n",
    "# Igualdad  ==\n",
    "print(3==1)\n",
    "# Distinto  !=\n",
    "print(1!=4)\n",
    "# Menor o igual  <=\n",
    "print(2<=1)\n",
    "# Mayor o igual  >=\n",
    "print(6>=3)\n",
    "print(\"A\">=\"B\") # ordenamiento por orden alfabetico\n",
    "print(\"f\">=\"c\")\n",
    "print(\"A\">=\"a\")"
   ]
  },
  {
   "cell_type": "code",
   "execution_count": 97,
   "metadata": {},
   "outputs": [
    {
     "name": "stdout",
     "output_type": "stream",
     "text": [
      "True\n",
      "False\n",
      "True\n",
      "False\n"
     ]
    }
   ],
   "source": [
    "# Operadores logicos (and, or, not)\n",
    "\n",
    "# and : V+V=V, V+F=F, F+F=F\n",
    "print((3<5)and(\"b\">\"a\"))\n",
    "\n",
    "# or : V+V=V, V+F=V, F+F=F\n",
    "print((11<2)or(\"a\">\"b\"))\n",
    "\n",
    "# not : Cambia la operacion logica \n",
    "print(not(3>5))\n",
    "print(not(\"a\"<\"b\"))"
   ]
  },
  {
   "cell_type": "code",
   "execution_count": 103,
   "metadata": {},
   "outputs": [
    {
     "name": "stdout",
     "output_type": "stream",
     "text": [
      "alberto\n",
      "2\n",
      "5\n",
      "10\n"
     ]
    }
   ],
   "source": [
    "x=\"alberto\"\n",
    "print(x)\n",
    "x=2\n",
    "print(x)\n",
    "x=x+3      # x+=3\n",
    "print(x)\n",
    "x=x*2      # x*=2\n",
    "print(x)"
   ]
  },
  {
   "cell_type": "code",
   "execution_count": 115,
   "metadata": {},
   "outputs": [
    {
     "name": "stdout",
     "output_type": "stream",
     "text": [
      " el numero 10 si es par\n"
     ]
    }
   ],
   "source": [
    "# Condicionales\n",
    "\n",
    "# Condicional if : Se ejecutan las instrucciones si la condicion es verdadera\n",
    "\n",
    "# ejemplo: revisar si un entero es par\n",
    "numero=10\n",
    "if numero%2==0:\n",
    "    print(f\" el numero {numero} si es par\")"
   ]
  },
  {
   "cell_type": "code",
   "execution_count": 119,
   "metadata": {},
   "outputs": [
    {
     "name": "stdout",
     "output_type": "stream",
     "text": [
      "El numero 658455 no es par\n"
     ]
    }
   ],
   "source": [
    "# Condicional if-else\n",
    "num=int(input(\"Dame un numero entero\"))\n",
    "if num%2 == 0:\n",
    "    print(f\"El numero {num} es par\")\n",
    "else:\n",
    "    print(f\"El numero {num} no es par\")"
   ]
  },
  {
   "cell_type": "code",
   "execution_count": 123,
   "metadata": {},
   "outputs": [
    {
     "name": "stdout",
     "output_type": "stream",
     "text": [
      "El numero 0.0 es negativo\n"
     ]
    }
   ],
   "source": [
    "#ejemplo de verificacion de numeros positivos o negativos\n",
    "\n",
    "numero1=float(input(\"Dame un numero real\"))\n",
    "if numero1>0:\n",
    "    print(f\"El numero {numero1} es positivo\")\n",
    "else:\n",
    "    print(f\"El numero {numero1} es negativo\")\n",
    "    # para el 0 lo cuenta como negativo pero es incorrecto\n"
   ]
  },
  {
   "cell_type": "code",
   "execution_count": 127,
   "metadata": {},
   "outputs": [
    {
     "name": "stdout",
     "output_type": "stream",
     "text": [
      "El numero -2.0 es negativo\n"
     ]
    }
   ],
   "source": [
    "# Utilizamos la instruccion elif para corregir el problema del cero.  Se pueden colocar tantos elif como sean necesarios antes del else para in mismo if.\n",
    "\n",
    "numero2=float(input(\"Dame un numero real\"))\n",
    "if numero2>0:\n",
    "    print(f\"El numero {numero2} es positivo\")\n",
    "elif numero2<0:\n",
    "    print(f\"El numero {numero2} es negativo\")\n",
    "else:\n",
    "    print(f\"el numero es {int(numero2)}\")"
   ]
  },
  {
   "cell_type": "code",
   "execution_count": 137,
   "metadata": {},
   "outputs": [
    {
     "name": "stdout",
     "output_type": "stream",
     "text": [
      "0\n",
      "10\n",
      "20\n",
      "30\n",
      "40\n",
      "50\n",
      "60\n",
      "70\n",
      "80\n",
      "90\n"
     ]
    }
   ],
   "source": [
    "# Bucle for . Se repiten las instrucciones mientras la variable este en el operador.\n",
    "\n",
    "for numero in range(0,100,10):\n",
    "    print(numero)"
   ]
  },
  {
   "cell_type": "code",
   "execution_count": 139,
   "metadata": {},
   "outputs": [
    {
     "name": "stdout",
     "output_type": "stream",
     "text": [
      "el numero 0 es par\n",
      "el numero 2 es par\n",
      "el numero 4 es par\n",
      "el numero 6 es par\n",
      "el numero 8 es par\n",
      "el numero 10 es par\n",
      "el numero 12 es par\n",
      "el numero 14 es par\n",
      "el numero 16 es par\n",
      "el numero 18 es par\n",
      "el numero 20 es par\n",
      "el numero 22 es par\n",
      "el numero 24 es par\n",
      "el numero 26 es par\n",
      "el numero 28 es par\n",
      "el numero 30 es par\n",
      "el numero 32 es par\n",
      "el numero 34 es par\n",
      "el numero 36 es par\n",
      "el numero 38 es par\n",
      "el numero 40 es par\n",
      "el numero 42 es par\n",
      "el numero 44 es par\n",
      "el numero 46 es par\n",
      "el numero 48 es par\n",
      "el numero 50 es par\n",
      "el numero 52 es par\n",
      "el numero 54 es par\n",
      "el numero 56 es par\n",
      "el numero 58 es par\n",
      "el numero 60 es par\n",
      "el numero 62 es par\n",
      "el numero 64 es par\n",
      "el numero 66 es par\n",
      "el numero 68 es par\n",
      "el numero 70 es par\n",
      "el numero 72 es par\n",
      "el numero 74 es par\n",
      "el numero 76 es par\n",
      "el numero 78 es par\n",
      "el numero 80 es par\n",
      "el numero 82 es par\n",
      "el numero 84 es par\n",
      "el numero 86 es par\n",
      "el numero 88 es par\n",
      "el numero 90 es par\n",
      "el numero 92 es par\n",
      "el numero 94 es par\n",
      "el numero 96 es par\n",
      "el numero 98 es par\n"
     ]
    }
   ],
   "source": [
    "# ejemplo: imprimir numeros pares entre 0 y 100\n",
    "\n",
    "for i in range(0,100):\n",
    "    if i%2 == 0:\n",
    "        print(f\"el numero {i} es par\")"
   ]
  },
  {
   "cell_type": "code",
   "execution_count": 157,
   "metadata": {},
   "outputs": [
    {
     "name": "stdout",
     "output_type": "stream",
     "text": [
      "105\n"
     ]
    }
   ],
   "source": [
    "# calcular la suma del rango de valores\n",
    "suma=0\n",
    "n=int(input())\n",
    "for i in range(0,n+1):\n",
    "   suma=suma+i\n",
    "print(suma) "
   ]
  },
  {
   "cell_type": "code",
   "execution_count": 155,
   "metadata": {},
   "outputs": [
    {
     "name": "stdout",
     "output_type": "stream",
     "text": [
      "0  0\n",
      "1  1\n",
      "2  3\n",
      "3  6\n",
      "4  10\n",
      "5  15\n",
      "6  21\n",
      "7  28\n",
      "8  36\n",
      "9  45\n",
      "10  55\n",
      "11  66\n",
      "12  78\n",
      "13  91\n",
      "14  105\n"
     ]
    }
   ],
   "source": [
    "# Bucle while. Se ejecuta mientras la condicion sea verdadera\n",
    "suma=0\n",
    "i=0\n",
    "while suma<=100:\n",
    "    suma=suma+i\n",
    "    i+=1\n",
    "    print(f\"{i-1}  {suma}\")"
   ]
  }
 ],
 "metadata": {
  "kernelspec": {
   "display_name": "Python 3.10.5 64-bit",
   "language": "python",
   "name": "python3"
  },
  "language_info": {
   "codemirror_mode": {
    "name": "ipython",
    "version": 3
   },
   "file_extension": ".py",
   "mimetype": "text/x-python",
   "name": "python",
   "nbconvert_exporter": "python",
   "pygments_lexer": "ipython3",
   "version": "3.10.5"
  },
  "orig_nbformat": 4,
  "vscode": {
   "interpreter": {
    "hash": "7600a12950a547366bb7a6732117e300ffd26224351912980486e1126c5d0f9a"
   }
  }
 },
 "nbformat": 4,
 "nbformat_minor": 2
}
