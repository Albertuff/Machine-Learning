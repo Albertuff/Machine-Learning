# Cargamos nuestras librerias

import pandas as pd
import numpy as np
import seaborn as sns
from matplotlib import pyplot as plt
from sklearn.metrics import classification_report